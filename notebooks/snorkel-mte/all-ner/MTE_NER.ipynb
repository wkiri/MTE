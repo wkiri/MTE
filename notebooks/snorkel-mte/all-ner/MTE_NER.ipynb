{
 "cells": [
  {
   "cell_type": "markdown",
   "metadata": {},
   "source": [
    "# NER using Data Programming\n",
    "\n",
    "\n",
    "Project Mars Target Encyclopedia\n",
    "\n",
    "\n",
    "This notebook does not explain much, however, the exaplanations are found in the original notebook(s) https://github.com/HazyResearch/snorkel/tree/master/tutorials/intro \n",
    "\n",
    "\n",
    "## Setup:\n",
    "1. Follow instructions in https://github.com/HazyResearch/snorkel\n",
    "2. Start jupyter notebook server using `./run.sh` as described in snorkel README\n",
    "3. copy this notebook to a place accessible from the jupyter server started in previous step. Perhaps you may symlink your directory\n"
   ]
  },
  {
   "cell_type": "code",
   "execution_count": 2,
   "metadata": {
    "collapsed": false
   },
   "outputs": [],
   "source": [
    "%load_ext autoreload\n",
    "%autoreload 2\n",
    "%matplotlib inline\n",
    "\n",
    "from snorkel import SnorkelSession\n",
    "import os\n",
    "import numpy as np\n",
    "import re, string\n",
    "import codecs"
   ]
  },
  {
   "cell_type": "code",
   "execution_count": 3,
   "metadata": {
    "collapsed": true
   },
   "outputs": [],
   "source": [
    "# Open Session\n",
    "session = SnorkelSession()"
   ]
  },
  {
   "cell_type": "markdown",
   "metadata": {},
   "source": [
    "## Load all data to snorkel db"
   ]
  },
  {
   "cell_type": "code",
   "execution_count": null,
   "metadata": {
    "collapsed": false
   },
   "outputs": [],
   "source": [
    "\n",
    "parent = \"/Users/thammegr/work/mte/data/newcorpus/workspace\"\n",
    "# these lists are as per our previous experiments\n",
    "traing_list_file = parent + \"/train_62r15_685k14_384k15.list\"\n",
    "\n",
    "dev_list_file = parent + \"/development.list\"\n",
    "test_list_file = parent + \"/test.list\"\n",
    "# combine all the above using \n",
    "# cat train_62r15_685k14_384k15.list development.list test.list > all.list\n",
    "\n",
    "all_list_file = parent + \"/all.list\"\n",
    "\n",
    "# FIXME: overwriting training split, only 70 docs are chosen here\n",
    "traing_list_file = parent + \"/train_head70.list\"\n",
    "# and all list also overriden here\n",
    "all_list_file = parent + \"/all-small.list\""
   ]
  },
  {
   "cell_type": "code",
   "execution_count": null,
   "metadata": {
    "collapsed": false
   },
   "outputs": [],
   "source": [
    "from snorkel.parser import CSVPathsPreprocessor\n",
    "from snorkel.parser import TextDocPreprocessor\n",
    "\n",
    "class CustomTextDocPreprocessor(TextDocPreprocessor):\n",
    "    \"\"\"\n",
    "    It customizes the following: \n",
    "        generates custom doc_id which includes parent directory name\n",
    "                     because the file names are not unique\n",
    "        Injects file path into the metadata - required for later stage\n",
    "    \"\"\"\n",
    "    def parse_file(self, fp, file_name):\n",
    "        res = list(super(CustomTextDocPreprocessor, self).parse_file(fp, file_name))\n",
    "        assert len(res) == 1 # parent class must produce one record per file\n",
    "        doc, content = res[0]\n",
    "        doc.name = \"/\".join(fp.split(\"/\")[-2:]).rsplit('.', 1)[0]\n",
    "        doc.stable_id = self.get_stable_id(doc.name)\n",
    "        print(doc.stable_id)\n",
    "        doc.meta['file_path'] = fp\n",
    "        yield doc, content\n",
    "\n",
    "doc_preprocessor = CSVPathsPreprocessor(path=all_list_file, column=0, delim=',',\n",
    "                                        parser_factory=CustomTextDocPreprocessor)\n",
    "\n",
    "# Corpus parser to get features\n",
    "from snorkel.parser import CorpusParser\n",
    "corpus_parser = CorpusParser()\n",
    "%time corpus_parser.apply(doc_preprocessor)"
   ]
  },
  {
   "cell_type": "code",
   "execution_count": 5,
   "metadata": {
    "collapsed": false
   },
   "outputs": [
    {
     "name": "stdout",
     "output_type": "stream",
     "text": [
      "Documents: 125\n",
      "Sentences: 8414\n"
     ]
    }
   ],
   "source": [
    "from snorkel.models import Document, Sentence\n",
    "\n",
    "print \"Documents:\", session.query(Document).count()\n",
    "print \"Sentences:\", session.query(Sentence).count()"
   ]
  },
  {
   "cell_type": "code",
   "execution_count": 6,
   "metadata": {
    "collapsed": true
   },
   "outputs": [],
   "source": [
    "# Schema for Minerals\n",
    "from snorkel.models import candidate_subclass\n",
    "Mineral = candidate_subclass('Mineral', ['name'])\n",
    "Target = candidate_subclass('Target', ['name'])\n",
    "Element = candidate_subclass('Element', ['name'])"
   ]
  },
  {
   "cell_type": "code",
   "execution_count": 7,
   "metadata": {
    "collapsed": true
   },
   "outputs": [],
   "source": [
    "from snorkel.candidates import Ngrams, CandidateExtractor\n",
    "from snorkel.matchers import RegexMatchEach\n",
    "\n",
    "name_matcher = RegexMatchEach(attrib='pos_tags', rgx=\"NN.*\")\n",
    "\n",
    "#Elements and Minerals are unigrams\n",
    "element_cand_extr = CandidateExtractor(Element, [Ngrams(n_max=1)],[name_matcher])\n",
    "mineral_cand_extr = CandidateExtractor(Mineral, [Ngrams(n_max=1)],[name_matcher])\n",
    "# Target names can be unto 4 gram longer\n",
    "target_cand_extr = CandidateExtractor(Target, [Ngrams(n_max=4)],[name_matcher])"
   ]
  },
  {
   "cell_type": "code",
   "execution_count": 8,
   "metadata": {
    "collapsed": true
   },
   "outputs": [],
   "source": [
    "# Counts number of nouns in a sentence => could be used for filtering\n",
    "def number_of_nouns(sentence):\n",
    "    active_sequence = False\n",
    "    count = 0\n",
    "    last_tag = ''\n",
    "    for tag in sentence.pos_tags:\n",
    "        if tag.startswith('NN') and not active_sequence:\n",
    "            active_sequence = True\n",
    "            count += 1\n",
    "        elif not tag.startswith('NN') and active_sequence:\n",
    "            active_sequence = False\n",
    "    return count"
   ]
  },
  {
   "cell_type": "markdown",
   "metadata": {},
   "source": [
    "## Split the corpus into train, development and testing\n",
    "\n",
    "Here we use the same split we used for previous setup with CoreNLP CRF classifier"
   ]
  },
  {
   "cell_type": "code",
   "execution_count": 9,
   "metadata": {
    "collapsed": false
   },
   "outputs": [
    {
     "name": "stdout",
     "output_type": "stream",
     "text": [
      "('Docs:: Training size:', 70, 'Dev Size:', 20, 'Test Size', 35)\n",
      "('Sentence:: Training size:', 4460, 'Dev Size:', 1310, 'Test Size', 2392)\n"
     ]
    }
   ],
   "source": [
    "def load_paths(fp):\n",
    "    with open(fp) as fp:\n",
    "        return set(map(lambda x: x.strip().split(',')[0], fp.readlines()))\n",
    "\n",
    "train_files = load_paths(traing_list_file)\n",
    "dev_files = load_paths(dev_list_file)\n",
    "test_files = load_paths(test_list_file)\n",
    "splits = [train_files, dev_files, test_files]\n",
    "print(\"Docs:: Training size:\", len(train_files), \n",
    "      \"Dev Size:\", len(dev_files),\n",
    "      \"Test Size\", len(test_files))\n",
    "\n",
    "from snorkel.models import Document\n",
    "docs = session.query(Document).order_by(Document.name).all()\n",
    "\n",
    "train_sents = set()\n",
    "dev_sents   = set()\n",
    "test_sents  = set()\n",
    "\n",
    "for i, doc in enumerate(docs):\n",
    "    fp = doc.meta['file_path']\n",
    "    group_name = []\n",
    "    for j, split in enumerate(splits):\n",
    "        group_name.append('1' if fp in split else '0')\n",
    "    group_name = ''.join(group_name)\n",
    "    \n",
    "    if group_name == '000':\n",
    "        raise Exception(\"Document %s is not part of any split\" % doc.name )\n",
    "    elif group_name == '100':\n",
    "        group = train_sents\n",
    "    elif group_name == '010':\n",
    "        group = dev_sents\n",
    "    elif group_name == '001':\n",
    "        group = test_sents\n",
    "    else:\n",
    "        raise Exception(\"Document %s is in multiple splits %s\" % (doc.name, group_name))\n",
    "\n",
    "    for s in doc.sentences:\n",
    "        if number_of_nouns(s) > 0: # atleast one name in sentence\n",
    "            group.add(s)\n",
    "\n",
    "print(\"Sentence:: Training size:\", len(train_sents), \n",
    "      \"Dev Size:\", len(dev_sents),\n",
    "      \"Test Size\", len(test_sents))"
   ]
  },
  {
   "cell_type": "markdown",
   "metadata": {},
   "source": [
    "### Extract candidates \n",
    "\n",
    "Here recall should be high, precison can be bad\n",
    "\n",
    "\n",
    "\n",
    "NOTE: Dont run this second time... Use the next cell to resume"
   ]
  },
  {
   "cell_type": "code",
   "execution_count": 10,
   "metadata": {
    "collapsed": false
   },
   "outputs": [
    {
     "name": "stdout",
     "output_type": "stream",
     "text": [
      "Clearing existing...\n",
      "Running UDF...\n",
      "[========================================] 100%\n",
      "\n",
      "Running UDF...\n",
      "[========================================] 100%\n",
      "\n",
      "Running UDF...\n",
      "[========================================] 100%\n",
      "\n"
     ]
    }
   ],
   "source": [
    "dataset = train_sents\n",
    "element_cand_extr.apply(dataset, split=0, clear=True)\n",
    "mineral_cand_extr.apply(dataset, split=0, clear=False)\n",
    "target_cand_extr.apply(dataset, split=0, clear=False)"
   ]
  },
  {
   "cell_type": "code",
   "execution_count": 11,
   "metadata": {
    "collapsed": false
   },
   "outputs": [
    {
     "name": "stdout",
     "output_type": "stream",
     "text": [
      "Number of candidate elements: 36933\n",
      "Number of candidate Minerals: 36933\n",
      "Number of candidate targets: 26887\n"
     ]
    }
   ],
   "source": [
    "train_elements = session.query(Element).filter(Element.split == 0).all()\n",
    "print \"Number of candidate elements:\", len(train_elements)\n",
    "\n",
    "train_minerals = session.query(Mineral).filter(Mineral.split == 0).all()\n",
    "print \"Number of candidate Minerals:\", len(train_minerals)\n",
    "\n",
    "train_targets = session.query(Target).filter(Target.split == 0).all()\n",
    "print \"Number of candidate targets:\", len(train_targets)"
   ]
  },
  {
   "cell_type": "markdown",
   "metadata": {},
   "source": [
    "## Extract Develop and Test Sets \n",
    "\n",
    "\n",
    "\n",
    "NOTE: DO not run this second time... "
   ]
  },
  {
   "cell_type": "code",
   "execution_count": 12,
   "metadata": {
    "collapsed": false
   },
   "outputs": [
    {
     "name": "stdout",
     "output_type": "stream",
     "text": [
      "Clearing existing...\n",
      "Running UDF...\n",
      "[========================================] 100%\n",
      "\n",
      "Running UDF...\n",
      "[========================================] 100%\n",
      "\n",
      "Running UDF...\n",
      "[========================================] 100%\n",
      "\n",
      "Number of Elements: 11151\n",
      "Number of Minerals: 11151\n",
      "Number of Targets: 8051\n",
      "Clearing existing...\n",
      "Running UDF...\n",
      "[========================================] 100%\n",
      "\n",
      "Running UDF...\n",
      "[========================================] 100%\n",
      "\n",
      "Running UDF...\n",
      "[========================================] 100%\n",
      "\n",
      "Number of Elements: 19443\n",
      "Number of Minerals: 19443\n",
      "Number of Targets: 13871\n"
     ]
    }
   ],
   "source": [
    "for i, sents in enumerate([dev_sents, test_sents]):\n",
    "    element_cand_extr.apply(sents, split=i+1, clear=True)\n",
    "    mineral_cand_extr.apply(sents, split=i+1, clear=False)\n",
    "    target_cand_extr.apply(sents, split=i+1, clear=False)\n",
    "    print \"Number of Elements:\", session.query(Element).filter(Element.split == i+1).count()\n",
    "    print \"Number of Minerals:\", session.query(Mineral).filter(Mineral.split == i+1).count()\n",
    "    print \"Number of Targets:\", session.query(Target).filter(Target.split == i+1).count()"
   ]
  },
  {
   "cell_type": "markdown",
   "metadata": {},
   "source": [
    "## Labelling Functions\n",
    "\n",
    "### Targets\n",
    "#### 1.  From a known dictionary"
   ]
  },
  {
   "cell_type": "code",
   "execution_count": 13,
   "metadata": {
    "collapsed": false
   },
   "outputs": [
    {
     "name": "stdout",
     "output_type": "stream",
     "text": [
      "Found 2137 target names in MTE dictionary\n"
     ]
    }
   ],
   "source": [
    "\n",
    "def load_set(path, lower=True):\n",
    "    with codecs.open(path, 'r', 'utf-8') as f:\n",
    "        lines = f.readlines()\n",
    "        lines = map(lambda x: x.strip(), lines)\n",
    "        lines = filter(lambda x: x and not x.startswith('#'), lines)\n",
    "        if lower:\n",
    "            lines = map(lambda x: x.lower(), lines)\n",
    "        return set(lines)\n",
    "\n",
    "mte_targets = load_set(\"/Users/thammegr/work/mte/git/ref/MER-targets-pruned.txt\", lower=False)\n",
    "print(\"Found %d target names in MTE dictionary\" % len(mte_targets))\n",
    "\n",
    "mte_targets = set(map(lambda x: x.replace('_', ' ').title(), mte_targets))\n",
    "\n",
    "##\n",
    "def LF_mte_targets_dict(c):\n",
    "     return 1 if c.name.get_span().title() in mte_targets else -1"
   ]
  },
  {
   "cell_type": "markdown",
   "metadata": {},
   "source": [
    "#### 2. From wikipedia page"
   ]
  },
  {
   "cell_type": "code",
   "execution_count": 14,
   "metadata": {
    "collapsed": true
   },
   "outputs": [],
   "source": [
    "from lxml import etree\n",
    "# lxml supports XPath 1.0 which doesn't've regex match, so extending it\n",
    "ns = etree.FunctionNamespace(None)\n",
    "ns['matches'] = lambda _, val, patrn: re.match(patrn, str(val[0]) if val else \"\") is not None"
   ]
  },
  {
   "cell_type": "code",
   "execution_count": 17,
   "metadata": {
    "collapsed": false
   },
   "outputs": [
    {
     "name": "stdout",
     "output_type": "stream",
     "text": [
      "Found 384 target names on wikipedia https://en.wikipedia.org/wiki/List_of_rocks_on_Mars\n"
     ]
    }
   ],
   "source": [
    "import requests\n",
    "mars_rocks_page = \"https://en.wikipedia.org/wiki/List_of_rocks_on_Mars\"\n",
    "tree = etree.HTML(requests.get(mars_rocks_page).text)\n",
    "names = tree.xpath('//h2[matches(span/@id, \"^[0-9]{4}_.*\")]/following-sibling::div[2]/ul/li//text()')\n",
    "\n",
    "names = map(lambda x: re.sub(\"\\(.*\\)\", \"\", x), names)  # remove explainations in ()\n",
    "names = map(lambda x: re.sub(r'[^\\w\\s]','', x), names) # remove punctuations\n",
    "names = map(lambda x: x.strip(), names)     # remove whitespaces\n",
    "names = filter(lambda x: re.match(\"^\\d+$\", x) is None, names) # remove the number citations which were [num] originally\n",
    "names = filter(lambda x: x and x[0].isupper(), names)   # name should start with capital letter\n",
    "names = map(lambda x: x.title(), names)     # map to title case\n",
    "wikipedia_targets = set(names)\n",
    "print(\"Found %d target names on wikipedia %s\" %(len(wikipedia_targets), mars_rocks_page))"
   ]
  },
  {
   "cell_type": "code",
   "execution_count": 18,
   "metadata": {
    "collapsed": false
   },
   "outputs": [],
   "source": [
    "def LF_wikip_targets_dict(c):\n",
    "     return 1 if c.name.get_span().title() in wikipedia_targets else 0\n",
    "     # this list is not exhaustive, so return 0 for missing"
   ]
  },
  {
   "cell_type": "code",
   "execution_count": 19,
   "metadata": {
    "collapsed": false
   },
   "outputs": [
    {
     "name": "stdout",
     "output_type": "stream",
     "text": [
      "Number labeled: 298\n"
     ]
    }
   ],
   "source": [
    "# Debugging label functions\n",
    "from pprint import pprint\n",
    "\n",
    "labeled = []\n",
    "for c in session.query(Target).filter(Target.split == 0).all():\n",
    "    if LF_wikip_targets_dict(c) != 0: # function \n",
    "        labeled.append(c)\n",
    "\n",
    "print \"Number labeled:\", len(labeled)"
   ]
  },
  {
   "cell_type": "code",
   "execution_count": 20,
   "metadata": {
    "collapsed": false
   },
   "outputs": [
    {
     "data": {
      "text/plain": [
       "[Target(Span(\"Confidence Hills\", sentence=3762, chars=[69,84], words=[13,14])),\n",
       " Target(Span(\"Chinle\", sentence=1533, chars=[35,40], words=[5,5])),\n",
       " Target(Span(\"Cumberland\", sentence=2553, chars=[0,9], words=[0,0])),\n",
       " Target(Span(\"Cumberland\", sentence=2553, chars=[22,31], words=[6,6])),\n",
       " Target(Span(\"Windjana\", sentence=1421, chars=[96,103], words=[15,15])),\n",
       " Target(Span(\"Confidence Hills\", sentence=1695, chars=[84,99], words=[14,15])),\n",
       " Target(Span(\"Chinle\", sentence=1695, chars=[106,111], words=[17,17])),\n",
       " Target(Span(\"Darwin outcrop\", sentence=2087, chars=[38,51], words=[6,7])),\n",
       " Target(Span(\"Book Cliffs\", sentence=1699, chars=[53,63], words=[10,11])),\n",
       " Target(Span(\"Winnipesaukee\", sentence=183, chars=[0,12], words=[0,0]))]"
      ]
     },
     "execution_count": 20,
     "metadata": {},
     "output_type": "execute_result"
    }
   ],
   "source": [
    "# Sample labeled\n",
    "labeled[:10]"
   ]
  },
  {
   "cell_type": "code",
   "execution_count": 21,
   "metadata": {
    "collapsed": false
   },
   "outputs": [
    {
     "name": "stdout",
     "output_type": "stream",
     "text": [
      "We have 2 labeling functions\n"
     ]
    }
   ],
   "source": [
    "LFs = [\n",
    "    LF_mte_targets_dict,\n",
    "    LF_wikip_targets_dict\n",
    "]\n",
    "\n",
    "print(\"We have %d labeling functions\" % len(LFs))"
   ]
  },
  {
   "cell_type": "code",
   "execution_count": 22,
   "metadata": {
    "collapsed": true
   },
   "outputs": [],
   "source": [
    "from snorkel.annotations import LabelAnnotator\n",
    "import numpy as np\n",
    "labeler = LabelAnnotator(f=LFs)"
   ]
  },
  {
   "cell_type": "code",
   "execution_count": 23,
   "metadata": {
    "collapsed": false
   },
   "outputs": [
    {
     "name": "stdout",
     "output_type": "stream",
     "text": [
      "Clearing existing...\n",
      "Running UDF...\n",
      "[========================================] 100%\n",
      "\n",
      "CPU times: user 6min 22s, sys: 971 ms, total: 6min 23s\n",
      "Wall time: 6min 24s\n"
     ]
    },
    {
     "data": {
      "text/plain": [
       "<100753x2 sparse matrix of type '<type 'numpy.float64'>'\n",
       "\twith 101613 stored elements in Compressed Sparse Row format>"
      ]
     },
     "execution_count": 23,
     "metadata": {},
     "output_type": "execute_result"
    }
   ],
   "source": [
    "#Let us label the training set\n",
    "np.random.seed(1701)\n",
    "%time L_train = labeler.apply(split=0)\n",
    "L_train"
   ]
  },
  {
   "cell_type": "code",
   "execution_count": 24,
   "metadata": {
    "collapsed": false
   },
   "outputs": [
    {
     "data": {
      "text/plain": [
       "<100753x2 sparse matrix of type '<type 'numpy.float64'>'\n",
       "\twith 101613 stored elements in Compressed Sparse Row format>"
      ]
     },
     "execution_count": 24,
     "metadata": {},
     "output_type": "execute_result"
    }
   ],
   "source": [
    "# Loading it again  -- resume from here\n",
    "L_train = labeler.load_matrix(session, split=0)\n",
    "L_train"
   ]
  },
  {
   "cell_type": "code",
   "execution_count": 27,
   "metadata": {
    "collapsed": false
   },
   "outputs": [
    {
     "data": {
      "text/plain": [
       "Element(Span(\"function\", sentence=1175, chars=[39,46], words=[7,7]))"
      ]
     },
     "execution_count": 27,
     "metadata": {},
     "output_type": "execute_result"
    }
   ],
   "source": [
    "L_train.get_candidate(session, 10)"
   ]
  },
  {
   "cell_type": "code",
   "execution_count": 31,
   "metadata": {
    "collapsed": false
   },
   "outputs": [
    {
     "data": {
      "text/html": [
       "<div>\n",
       "<table border=\"1\" class=\"dataframe\">\n",
       "  <thead>\n",
       "    <tr style=\"text-align: right;\">\n",
       "      <th></th>\n",
       "      <th>j</th>\n",
       "      <th>Coverage</th>\n",
       "      <th>Overlaps</th>\n",
       "      <th>Conflicts</th>\n",
       "    </tr>\n",
       "  </thead>\n",
       "  <tbody>\n",
       "    <tr>\n",
       "      <th>LF_mte_targets_dict</th>\n",
       "      <td>0</td>\n",
       "      <td>1.000000</td>\n",
       "      <td>0.008536</td>\n",
       "      <td>0.007891</td>\n",
       "    </tr>\n",
       "    <tr>\n",
       "      <th>LF_wikip_targets_dict</th>\n",
       "      <td>1</td>\n",
       "      <td>0.008536</td>\n",
       "      <td>0.008536</td>\n",
       "      <td>0.007891</td>\n",
       "    </tr>\n",
       "  </tbody>\n",
       "</table>\n",
       "</div>"
      ],
      "text/plain": [
       "                       j  Coverage  Overlaps  Conflicts\n",
       "LF_mte_targets_dict    0  1.000000  0.008536   0.007891\n",
       "LF_wikip_targets_dict  1  0.008536  0.008536   0.007891"
      ]
     },
     "execution_count": 31,
     "metadata": {},
     "output_type": "execute_result"
    }
   ],
   "source": [
    "# Get stats of LFs\n",
    "L_train.lf_stats(session, )"
   ]
  },
  {
   "cell_type": "markdown",
   "metadata": {},
   "source": [
    "## Generative model "
   ]
  },
  {
   "cell_type": "code",
   "execution_count": 32,
   "metadata": {
    "collapsed": false
   },
   "outputs": [
    {
     "name": "stderr",
     "output_type": "stream",
     "text": [
      "/Users/thammegr/anaconda/lib/python2.7/site-packages/matplotlib/__init__.py:1357: UserWarning:  This call to matplotlib.use() has no effect\n",
      "because the backend has already been chosen;\n",
      "matplotlib.use() must be called *before* pylab, matplotlib.pyplot,\n",
      "or matplotlib.backends is imported for the first time.\n",
      "\n",
      "  warnings.warn(_use_error_msg)\n"
     ]
    }
   ],
   "source": [
    "from snorkel.learning import GenerativeModel\n",
    "\n",
    "gen_model = GenerativeModel()\n",
    "gen_model.train(L_train, epochs=500, decay=0.95, step_size=0.1/L_train.shape[0], reg_param=1e-6)"
   ]
  },
  {
   "cell_type": "code",
   "execution_count": 33,
   "metadata": {
    "collapsed": false
   },
   "outputs": [
    {
     "data": {
      "image/png": "[encoded data removed]",
      "text/plain": [
       "<matplotlib.figure.Figure at 0x141418310>"
      ]
     },
     "metadata": {},
     "output_type": "display_data"
    }
   ],
   "source": [
    "train_marginals = gen_model.marginals(L_train)\n",
    "# visualize \n",
    "import matplotlib.pyplot as plt\n",
    "plt.hist(train_marginals, bins=20)\n",
    "plt.show()"
   ]
  },
  {
   "cell_type": "code",
   "execution_count": 34,
   "metadata": {
    "collapsed": false
   },
   "outputs": [
    {
     "data": {
      "text/plain": [
       "array([ 0.84098206,  0.51640136])"
      ]
     },
     "execution_count": 34,
     "metadata": {},
     "output_type": "execute_result"
    }
   ],
   "source": [
    "gen_model.weights.lf_accuracy()"
   ]
  },
  {
   "cell_type": "code",
   "execution_count": 35,
   "metadata": {
    "collapsed": false
   },
   "outputs": [
    {
     "name": "stdout",
     "output_type": "stream",
     "text": [
      "Clearing existing...\n",
      "Running UDF...\n",
      "[========================================] 100%\n",
      "\n"
     ]
    }
   ],
   "source": [
    "L_dev = labeler.apply_existing(split=1)"
   ]
  },
  {
   "cell_type": "code",
   "execution_count": 36,
   "metadata": {
    "collapsed": false
   },
   "outputs": [
    {
     "data": {
      "text/plain": [
       "<30353x2 sparse matrix of type '<type 'numpy.float64'>'\n",
       "\twith 30558 stored elements in Compressed Sparse Row format>"
      ]
     },
     "execution_count": 36,
     "metadata": {},
     "output_type": "execute_result"
    }
   ],
   "source": [
    "L_dev"
   ]
  },
  {
   "cell_type": "code",
   "execution_count": 44,
   "metadata": {
    "collapsed": false
   },
   "outputs": [
    {
     "data": {
      "text/plain": [
       "8051"
      ]
     },
     "execution_count": 44,
     "metadata": {},
     "output_type": "execute_result"
    }
   ],
   "source": [
    "# development split\n",
    "dev_cands = session.query(Target).filter(Target.split == 1).all()\n",
    "len(dev_cands)"
   ]
  },
  {
   "cell_type": "code",
   "execution_count": 46,
   "metadata": {
    "collapsed": false
   },
   "outputs": [
    {
     "data": {
      "text/plain": [
       "[Target(Span(\"Table\", sentence=5597, chars=[72,76], words=[14,14])),\n",
       " Target(Span(\"sand grains\", sentence=5597, chars=[59,69], words=[11,12])),\n",
       " Target(Span(\"medium\", sentence=5597, chars=[42,47], words=[8,8])),\n",
       " Target(Span(\"ripples\", sentence=5597, chars=[5,11], words=[1,1])),\n",
       " Target(Span(\"ripple crests\", sentence=5575, chars=[29,41], words=[5,6])),\n",
       " Target(Span(\"Treiman A.H.\", sentence=4788, chars=[4,15], words=[3,4])),\n",
       " Target(Span(\"Venus Technology Workshop\", sentence=4788, chars=[38,62], words=[11,13])),\n",
       " Target(Span(\"Abstr\", sentence=4788, chars=[65,69], words=[15,15])),\n",
       " Target(Span(\"Dyar M.D.\", sentence=4788, chars=[21,29], words=[6,7])),\n",
       " Target(Span(\"ChemCam\", sentence=4889, chars=[58,64], words=[9,9]))]"
      ]
     },
     "execution_count": 46,
     "metadata": {},
     "output_type": "execute_result"
    }
   ],
   "source": [
    "dev_cands[:10]f"
   ]
  },
  {
   "cell_type": "code",
   "execution_count": 47,
   "metadata": {
    "collapsed": false
   },
   "outputs": [
    {
     "data": {
      "application/javascript": [
       "require.undef('viewer');\n",
       "\n",
       "// NOTE: all elements should be selected using this.$el.find to avoid collisions with other Viewers\n",
       "\n",
       "define('viewer', [\"jupyter-js-widgets\"], function(widgets) {\n",
       "    var ViewerView = widgets.DOMWidgetView.extend({\n",
       "        render: function() {\n",
       "            this.cids   = this.model.get('cids');\n",
       "            this.nPages = this.cids.length;\n",
       "            this.pid  = 0;\n",
       "            this.cxid = 0;\n",
       "            this.cid  = 0;\n",
       "\n",
       "            // Insert the html payload\n",
       "            this.$el.append(this.model.get('html'));\n",
       "\n",
       "            // Initialize all labels from previous sessions\n",
       "            this.labels = this.deserializeDict(this.model.get('_labels_serialized'));\n",
       "            for (var i=0; i < this.nPages; i++) {\n",
       "                this.pid = i;\n",
       "                for (var j=0; j < this.cids[i].length; j++) {\n",
       "                    this.cxid = j;\n",
       "                    for (var k=0; k < this.cids[i][j].length; k++) {\n",
       "                        this.cid = k;\n",
       "                        if (this.cids[i][j][k] in this.labels) {\n",
       "                            this.markCurrentCandidate(false);\n",
       "                        }\n",
       "                    }\n",
       "                }\n",
       "            }\n",
       "            this.pid  = 0;\n",
       "            this.cxid = 0;\n",
       "            this.cid  = 0;\n",
       "\n",
       "            // Enable button functionality for navigation\n",
       "            var that = this;\n",
       "            this.$el.find(\"#next-cand\").click(function() {\n",
       "                that.switchCandidate(1);\n",
       "            });\n",
       "            this.$el.find(\"#prev-cand\").click(function() {\n",
       "                that.switchCandidate(-1);\n",
       "            });\n",
       "            this.$el.find(\"#next-context\").click(function() {\n",
       "                that.switchContext(1);\n",
       "            });\n",
       "            this.$el.find(\"#prev-context\").click(function() {\n",
       "                that.switchContext(-1);\n",
       "            });\n",
       "            this.$el.find(\"#next-page\").click(function() {\n",
       "                that.switchPage(1);\n",
       "            });\n",
       "            this.$el.find(\"#prev-page\").click(function() {\n",
       "                that.switchPage(-1);\n",
       "            });\n",
       "            this.$el.find(\"#label-true\").click(function() {\n",
       "                that.labelCandidate(true, true);\n",
       "            });\n",
       "            this.$el.find(\"#label-false\").click(function() {\n",
       "                that.labelCandidate(false, true);\n",
       "            });\n",
       "\n",
       "            // Arrow key functionality\n",
       "            this.$el.keydown(function(e) {\n",
       "                switch(e.which) {\n",
       "                    case 74: // j\n",
       "                    that.switchCandidate(-1);\n",
       "                    break;\n",
       "\n",
       "                    case 73: // i\n",
       "                    that.switchPage(-1);\n",
       "                    break;\n",
       "\n",
       "                    case 76: // l\n",
       "                    that.switchCandidate(1);\n",
       "                    break;\n",
       "\n",
       "                    case 75: // k\n",
       "                    that.switchPage(1);\n",
       "                    break;\n",
       "\n",
       "                    case 84: // t\n",
       "                    that.labelCandidate(true, true);\n",
       "                    break;\n",
       "\n",
       "                    case 70: // f\n",
       "                    that.labelCandidate(false, true);\n",
       "                    break;\n",
       "                }\n",
       "            });\n",
       "\n",
       "            // Show the first page and highlight the first candidate\n",
       "            this.$el.find(\"#viewer-page-0\").show();\n",
       "            this.switchCandidate(0);\n",
       "        },\n",
       "\n",
       "        // Get candidate selector for currently selected candidate, escaping id properly\n",
       "        getCandidate: function() {\n",
       "            return this.$el.find(\".\"+this.cids[this.pid][this.cxid][this.cid]);\n",
       "        },  \n",
       "\n",
       "        // Color the candidate correctly according to registered label, as well as set highlighting\n",
       "        markCurrentCandidate: function(highlight) {\n",
       "            var cid  = this.cids[this.pid][this.cxid][this.cid];\n",
       "            var tags = this.$el.find(\".\"+cid);\n",
       "\n",
       "            // Clear color classes\n",
       "            tags.removeClass(\"candidate-h\");\n",
       "            tags.removeClass(\"true-candidate\");\n",
       "            tags.removeClass(\"true-candidate-h\");\n",
       "            tags.removeClass(\"false-candidate\");\n",
       "            tags.removeClass(\"false-candidate-h\");\n",
       "            tags.removeClass(\"highlighted\");\n",
       "\n",
       "            if (highlight) {\n",
       "                if (cid in this.labels) {\n",
       "                    tags.addClass(String(this.labels[cid]) + \"-candidate-h\");\n",
       "                } else {\n",
       "                    tags.addClass(\"candidate-h\");\n",
       "                }\n",
       "            \n",
       "            // If un-highlighting, leave with first non-null coloring\n",
       "            } else {\n",
       "                var that = this;\n",
       "                tags.each(function() {\n",
       "                    var cids = $(this).attr('class').split(/\\s+/).map(function(item) {\n",
       "                        return parseInt(item);\n",
       "                    });\n",
       "                    cids.sort();\n",
       "                    for (var i in cids) {\n",
       "                        if (cids[i] in that.labels) {\n",
       "                            var label = that.labels[cids[i]];\n",
       "                            $(this).addClass(String(label) + \"-candidate\");\n",
       "                            $(this).removeClass(String(!label) + \"-candidate\");\n",
       "                            break;\n",
       "                        }\n",
       "                    }\n",
       "                });\n",
       "            }\n",
       "\n",
       "            // Extra highlighting css\n",
       "            if (highlight) {\n",
       "                tags.addClass(\"highlighted\");\n",
       "            }\n",
       "\n",
       "            // Classes for showing direction of relation\n",
       "            if (highlight) {\n",
       "                this.$el.find(\".\"+cid+\"-0\").addClass(\"left-candidate\");\n",
       "                this.$el.find(\".\"+cid+\"-1\").addClass(\"right-candidate\");\n",
       "            } else {\n",
       "                this.$el.find(\".\"+cid+\"-0\").removeClass(\"left-candidate\");\n",
       "                this.$el.find(\".\"+cid+\"-1\").removeClass(\"right-candidate\");\n",
       "            }\n",
       "        },\n",
       "\n",
       "        // Cycle through candidates and highlight, by increment inc\n",
       "        switchCandidate: function(inc) {\n",
       "            var N = this.cids[this.pid].length\n",
       "            var M = this.cids[this.pid][this.cxid].length;\n",
       "            if (N == 0 || M == 0) { return false; }\n",
       "\n",
       "            // Clear highlighting from previous candidate\n",
       "            if (inc != 0) {\n",
       "                this.markCurrentCandidate(false);\n",
       "\n",
       "                // Increment the cid counter\n",
       "\n",
       "                // Move to next context\n",
       "                if (this.cid + inc >= M) {\n",
       "                    while (this.cid + inc >= M) {\n",
       "                        \n",
       "                        // At last context on page, halt\n",
       "                        if (this.cxid == N - 1) {\n",
       "                            this.cid = M - 1;\n",
       "                            inc = 0;\n",
       "                            break;\n",
       "                        \n",
       "                        // Increment to next context\n",
       "                        } else {\n",
       "                            inc -= M - this.cid;\n",
       "                            this.cxid += 1;\n",
       "                            M = this.cids[this.pid][this.cxid].length;\n",
       "                            this.cid = 0;\n",
       "                        }\n",
       "                    }\n",
       "\n",
       "                // Move to previous context\n",
       "                } else if (this.cid + inc < 0) {\n",
       "                    while (this.cid + inc < 0) {\n",
       "                        \n",
       "                        // At first context on page, halt\n",
       "                        if (this.cxid == 0) {\n",
       "                            this.cid = 0;\n",
       "                            inc = 0;\n",
       "                            break;\n",
       "                        \n",
       "                        // Increment to previous context\n",
       "                        } else {\n",
       "                            inc += this.cid + 1;\n",
       "                            this.cxid -= 1;\n",
       "                            M = this.cids[this.pid][this.cxid].length;\n",
       "                            this.cid = M - 1;\n",
       "                        }\n",
       "                    }\n",
       "                }\n",
       "\n",
       "                // Move within current context\n",
       "                this.cid += inc;\n",
       "            }\n",
       "            this.markCurrentCandidate(true);\n",
       "\n",
       "            // Push this new cid to the model\n",
       "            this.model.set('_selected_cid', this.cids[this.pid][this.cxid][this.cid]);\n",
       "            this.touch();\n",
       "        },\n",
       "\n",
       "        // Switch through contexts\n",
       "        switchContext: function(inc) {\n",
       "            this.markCurrentCandidate(false);\n",
       "\n",
       "            // Iterate context on this page\n",
       "            var M = this.cids[this.pid].length;\n",
       "            if (this.cxid + inc < 0) {\n",
       "                this.cxid = 0;\n",
       "            } else if (this.cxid + inc >= M) {\n",
       "                this.cxid = M - 1;\n",
       "            } else {\n",
       "                this.cxid += inc;\n",
       "            }\n",
       "\n",
       "            // Reset cid and set to first candidate\n",
       "            this.cid = 0;\n",
       "            this.switchCandidate(0);\n",
       "        },\n",
       "\n",
       "        // Switch through pages\n",
       "        switchPage: function(inc) {\n",
       "            this.markCurrentCandidate(false);\n",
       "            this.$el.find(\".viewer-page\").hide();\n",
       "            if (this.pid + inc < 0) {\n",
       "                this.pid = 0;\n",
       "            } else if (this.pid + inc > this.nPages - 1) {\n",
       "                this.pid = this.nPages - 1;\n",
       "            } else {\n",
       "                this.pid += inc;\n",
       "            }\n",
       "            this.$el.find(\"#viewer-page-\"+this.pid).show();\n",
       "\n",
       "            // Show pagination\n",
       "            this.$el.find(\"#page\").html(this.pid);\n",
       "\n",
       "            // Reset cid and set to first candidate\n",
       "            this.cid = 0;\n",
       "            this.cxid = 0;\n",
       "            this.switchCandidate(0);\n",
       "        },\n",
       "\n",
       "        // Label currently-selected candidate\n",
       "        labelCandidate: function(label, highlighted) {\n",
       "            var c    = this.getCandidate();\n",
       "            var cid  = this.cids[this.pid][this.cxid][this.cid];\n",
       "            var cl   = String(label) + \"-candidate\";\n",
       "            var clh  = String(label) + \"-candidate-h\";\n",
       "            var cln  = String(!label) + \"-candidate\";\n",
       "            var clnh = String(!label) + \"-candidate-h\";\n",
       "\n",
       "            // Toggle label highlighting\n",
       "            if (c.hasClass(cl) || c.hasClass(clh)) {\n",
       "                c.removeClass(cl);\n",
       "                c.removeClass(clh);\n",
       "                if (highlighted) {\n",
       "                    c.addClass(\"candidate-h\");\n",
       "                }\n",
       "                this.labels[cid] = null;\n",
       "                this.send({event: 'delete_label', cid: cid});\n",
       "            } else {\n",
       "                c.removeClass(cln);\n",
       "                c.removeClass(clnh);\n",
       "                if (highlighted) {\n",
       "                    c.addClass(clh);\n",
       "                } else {\n",
       "                    c.addClass(cl);\n",
       "                }\n",
       "                this.labels[cid] = label;\n",
       "                this.send({event: 'set_label', cid: cid, value: label});\n",
       "            }\n",
       "\n",
       "            // Set the label and pass back to the model\n",
       "            this.model.set('_labels_serialized', this.serializeDict(this.labels));\n",
       "            this.touch();\n",
       "        },\n",
       "\n",
       "        // Serialization of hash maps, because traitlets Dict doesn't seem to work...\n",
       "        serializeDict: function(d) {\n",
       "            var s = [];\n",
       "            for (var key in d) {\n",
       "                s.push(key+\"~~\"+d[key]);\n",
       "            }\n",
       "            return s.join();\n",
       "        },\n",
       "\n",
       "        // Deserialization of hash maps\n",
       "        deserializeDict: function(s) {\n",
       "            var d = {};\n",
       "            var entries = s.split(/,/);\n",
       "            var kv;\n",
       "            for (var i in entries) {\n",
       "                kv = entries[i].split(/~~/);\n",
       "                if (kv[1] == \"true\") {\n",
       "                    d[kv[0]] = true;\n",
       "                } else if (kv[1] == \"false\") {\n",
       "                    d[kv[0]] = false;\n",
       "                }\n",
       "            }\n",
       "            return d;\n",
       "        },\n",
       "    });\n",
       "\n",
       "    return {\n",
       "        ViewerView: ViewerView\n",
       "    };\n",
       "});\n"
      ],
      "text/plain": [
       "<IPython.core.display.Javascript object>"
      ]
     },
     "metadata": {},
     "output_type": "display_data"
    }
   ],
   "source": [
    "from snorkel.viewer import SentenceNgramViewer\n",
    "sv = SentenceNgramViewer(dev_cands, session)\n",
    "sv"
   ]
  },
  {
   "cell_type": "code",
   "execution_count": 102,
   "metadata": {
    "collapsed": false
   },
   "outputs": [
    {
     "data": {
      "text/plain": [
       "<30353x1 sparse matrix of type '<type 'numpy.float64'>'\n",
       "\twith 55 stored elements in Compressed Sparse Row format>"
      ]
     },
     "execution_count": 102,
     "metadata": {},
     "output_type": "execute_result"
    }
   ],
   "source": [
    "from snorkel.annotations import load_gold_labels\n",
    "\n",
    "L_gold_dev = load_gold_labels(session, annotator_name=os.environ['USER'], split=1)\n",
    "L_gold_dev\n"
   ]
  },
  {
   "cell_type": "code",
   "execution_count": 49,
   "metadata": {
    "collapsed": false
   },
   "outputs": [
    {
     "data": {
      "text/plain": [
       "snorkel.annotations.csr_LabelMatrix"
      ]
     },
     "execution_count": 49,
     "metadata": {},
     "output_type": "execute_result"
    }
   ],
   "source": [
    "type(L_gold_dev)"
   ]
  },
  {
   "cell_type": "code",
   "execution_count": 101,
   "metadata": {
    "collapsed": false
   },
   "outputs": [
    {
     "name": "stdout",
     "output_type": "stream",
     "text": [
      "AnnotatorLabels created: 0\n",
      "AnnotatorLabels created: 0\n"
     ]
    }
   ],
   "source": [
    "from snorkel.annotations import (csr_LabelMatrix, load_matrix, GoldLabelKey, GoldLabel)\n",
    "from snorkel.models import StableLabel\n",
    "from snorkel.db_helpers import reload_annotator_labels\n",
    "\n",
    "# NOTE: this is a shortcut for labeling \n",
    "# Ideally we should use labels from the SentenceNgramViewer \n",
    "\n",
    "true_labeller = LF_mte_targets_dict\n",
    "\n",
    "def load_gold_labels(cand_set, candidate_class, annotator_name=\"gold\"):\n",
    "    count = 0\n",
    "    for cand in cand_set:\n",
    "        ctx_stable_ids = cand.name.get_span()\n",
    "        query = session.query(StableLabel).filter(StableLabel.context_stable_ids == ctx_stable_ids)\n",
    "        query = query.filter(StableLabel.annotator_name == annotator_name)\n",
    "        \n",
    "        if query.count() == 0:\n",
    "            count += 1\n",
    "            true_label = true_labeller(cand)            \n",
    "            session.add(StableLabel(\n",
    "                context_stable_ids=ctx_stable_ids,\n",
    "                annotator_name=annotator_name,\n",
    "                value=true_label))\n",
    "\n",
    "    # Commit session\n",
    "    session.commit()\n",
    "\n",
    "    # Reload annotator labels\n",
    "    reload_annotator_labels(session, candidate_class, annotator_name, split=1, filter_label_split=False)\n",
    "    reload_annotator_labels(session, candidate_class, annotator_name, split=2, filter_label_split=False)\n",
    "load_gold_labels(dev_cands, Target)"
   ]
  },
  {
   "cell_type": "code",
   "execution_count": null,
   "metadata": {
    "collapsed": false
   },
   "outputs": [],
   "source": [
    "from snorkel.annotations import load_gold_labels\n",
    "\n",
    "L_gold_dev = load_gold_labels(session, annotator_name='gold', split=1)\n",
    "tot = L_gold_dev.shape[0]\n",
    "n = len(filter(lambda x: x == 1, L_gold_dev))\n",
    "print(\"Found %d positive labels out of %d\" % (n, tot))"
   ]
  },
  {
   "cell_type": "code",
   "execution_count": 84,
   "metadata": {
    "collapsed": false
   },
   "outputs": [
    {
     "ename": "AttributeError",
     "evalue": "get_row_index not found",
     "output_type": "error",
     "traceback": [
      "\u001b[0;31m---------------------------------------------------------------\u001b[0m",
      "\u001b[0;31mAttributeError\u001b[0m                Traceback (most recent call last)",
      "\u001b[0;32m<ipython-input-84-d2c9f34e8a1c>\u001b[0m in \u001b[0;36m<module>\u001b[0;34m()\u001b[0m\n\u001b[0;32m----> 1\u001b[0;31m \u001b[0mtp\u001b[0m\u001b[0;34m,\u001b[0m \u001b[0mfp\u001b[0m\u001b[0;34m,\u001b[0m \u001b[0mtn\u001b[0m\u001b[0;34m,\u001b[0m \u001b[0mfn\u001b[0m \u001b[0;34m=\u001b[0m \u001b[0mgen_model\u001b[0m\u001b[0;34m.\u001b[0m\u001b[0mscore\u001b[0m\u001b[0;34m(\u001b[0m\u001b[0msession\u001b[0m\u001b[0;34m,\u001b[0m \u001b[0mL_dev\u001b[0m\u001b[0;34m,\u001b[0m \u001b[0mL_gold_dev\u001b[0m\u001b[0;34m)\u001b[0m\u001b[0;34m\u001b[0m\u001b[0m\n\u001b[0m",
      "\u001b[0;32m/Users/thammegr/work/stanford/snorkel/snorkel/learning/gen_learning.py\u001b[0m in \u001b[0;36mscore\u001b[0;34m(self, session, X_test, test_labels, gold_candidate_set, b, set_unlabeled_as_neg, display, scorer, **kwargs)\u001b[0m\n\u001b[1;32m    290\u001b[0m \u001b[0;34m\u001b[0m\u001b[0m\n\u001b[1;32m    291\u001b[0m         return s.score(test_marginals, train_marginals=None, b=b,\n\u001b[0;32m--> 292\u001b[0;31m                        set_unlabeled_as_neg=set_unlabeled_as_neg, display=display)\n\u001b[0m\u001b[1;32m    293\u001b[0m \u001b[0;34m\u001b[0m\u001b[0m\n\u001b[1;32m    294\u001b[0m     \u001b[0;32mdef\u001b[0m \u001b[0m_process_dependency_graph\u001b[0m\u001b[0;34m(\u001b[0m\u001b[0mself\u001b[0m\u001b[0;34m,\u001b[0m \u001b[0mL\u001b[0m\u001b[0;34m,\u001b[0m \u001b[0mdeps\u001b[0m\u001b[0;34m)\u001b[0m\u001b[0;34m:\u001b[0m\u001b[0;34m\u001b[0m\u001b[0m\n",
      "\u001b[0;32m/Users/thammegr/work/stanford/snorkel/snorkel/learning/utils.pyc\u001b[0m in \u001b[0;36mscore\u001b[0;34m(self, test_marginals, train_marginals, b, set_unlabeled_as_neg, set_at_thresh_as_neg, display)\u001b[0m\n\u001b[1;32m     91\u001b[0m \u001b[0;34m\u001b[0m\u001b[0m\n\u001b[1;32m     92\u001b[0m         \u001b[0;32mfor\u001b[0m \u001b[0mi\u001b[0m\u001b[0;34m,\u001b[0m \u001b[0mcandidate\u001b[0m \u001b[0;32min\u001b[0m \u001b[0menumerate\u001b[0m\u001b[0;34m(\u001b[0m\u001b[0mself\u001b[0m\u001b[0;34m.\u001b[0m\u001b[0mtest_candidates\u001b[0m\u001b[0;34m)\u001b[0m\u001b[0;34m:\u001b[0m\u001b[0;34m\u001b[0m\u001b[0m\n\u001b[0;32m---> 93\u001b[0;31m             \u001b[0mtest_label_index\u001b[0m \u001b[0;34m=\u001b[0m \u001b[0mself\u001b[0m\u001b[0;34m.\u001b[0m\u001b[0mtest_labels\u001b[0m\u001b[0;34m.\u001b[0m\u001b[0mget_row_index\u001b[0m\u001b[0;34m(\u001b[0m\u001b[0mcandidate\u001b[0m\u001b[0;34m)\u001b[0m\u001b[0;34m\u001b[0m\u001b[0m\n\u001b[0m\u001b[1;32m     94\u001b[0m             \u001b[0mtest_label\u001b[0m       \u001b[0;34m=\u001b[0m \u001b[0mself\u001b[0m\u001b[0;34m.\u001b[0m\u001b[0mtest_labels\u001b[0m\u001b[0;34m[\u001b[0m\u001b[0mtest_label_index\u001b[0m\u001b[0;34m,\u001b[0m \u001b[0;36m0\u001b[0m\u001b[0;34m]\u001b[0m\u001b[0;34m\u001b[0m\u001b[0m\n\u001b[1;32m     95\u001b[0m \u001b[0;34m\u001b[0m\u001b[0m\n",
      "\u001b[0;32m/Users/thammegr/anaconda/lib/python2.7/site-packages/scipy/sparse/base.pyc\u001b[0m in \u001b[0;36m__getattr__\u001b[0;34m(self, attr)\u001b[0m\n\u001b[1;32m    557\u001b[0m             \u001b[0;32mreturn\u001b[0m \u001b[0mself\u001b[0m\u001b[0;34m.\u001b[0m\u001b[0mgetnnz\u001b[0m\u001b[0;34m(\u001b[0m\u001b[0;34m)\u001b[0m\u001b[0;34m\u001b[0m\u001b[0m\n\u001b[1;32m    558\u001b[0m         \u001b[0;32melse\u001b[0m\u001b[0;34m:\u001b[0m\u001b[0;34m\u001b[0m\u001b[0m\n\u001b[0;32m--> 559\u001b[0;31m             \u001b[0;32mraise\u001b[0m \u001b[0mAttributeError\u001b[0m\u001b[0;34m(\u001b[0m\u001b[0mattr\u001b[0m \u001b[0;34m+\u001b[0m \u001b[0;34m\" not found\"\u001b[0m\u001b[0;34m)\u001b[0m\u001b[0;34m\u001b[0m\u001b[0m\n\u001b[0m\u001b[1;32m    560\u001b[0m \u001b[0;34m\u001b[0m\u001b[0m\n\u001b[1;32m    561\u001b[0m     \u001b[0;32mdef\u001b[0m \u001b[0mtranspose\u001b[0m\u001b[0;34m(\u001b[0m\u001b[0mself\u001b[0m\u001b[0;34m,\u001b[0m \u001b[0maxes\u001b[0m\u001b[0;34m=\u001b[0m\u001b[0mNone\u001b[0m\u001b[0;34m,\u001b[0m \u001b[0mcopy\u001b[0m\u001b[0;34m=\u001b[0m\u001b[0mFalse\u001b[0m\u001b[0;34m)\u001b[0m\u001b[0;34m:\u001b[0m\u001b[0;34m\u001b[0m\u001b[0m\n",
      "\u001b[0;31mAttributeError\u001b[0m: get_row_index not found"
     ]
    }
   ],
   "source": [
    "tp, fp, tn, fn = gen_model.score(session, L_dev, L_gold_dev)"
   ]
  },
  {
   "cell_type": "code",
   "execution_count": 89,
   "metadata": {
    "collapsed": false
   },
   "outputs": [
    {
     "data": {
      "text/plain": [
       "u'Table'"
      ]
     },
     "execution_count": 89,
     "metadata": {},
     "output_type": "execute_result"
    }
   ],
   "source": [
    "dev_cands[0].name.get_span()"
   ]
  },
  {
   "cell_type": "code",
   "execution_count": null,
   "metadata": {
    "collapsed": true
   },
   "outputs": [],
   "source": []
  }
 ],
 "metadata": {
  "anaconda-cloud": {},
  "kernelspec": {
   "display_name": "Python [default]",
   "language": "python",
   "name": "python2"
  },
  "language_info": {
   "codemirror_mode": {
    "name": "ipython",
    "version": 2
   },
   "file_extension": ".py",
   "mimetype": "text/x-python",
   "name": "python",
   "nbconvert_exporter": "python",
   "pygments_lexer": "ipython2",
   "version": "2.7.10"
  },
  "widgets": {
   "state": {
    "ffc5d34bf1db4395b6c25e5dfdbe37d3": {
     "views": [
      {
       "cell_index": 39
      }
     ]
    }
   },
   "version": "1.2.0"
  }
 },
 "nbformat": 4,
 "nbformat_minor": 1
}
